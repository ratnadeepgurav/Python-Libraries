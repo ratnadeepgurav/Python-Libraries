{
 "cells": [
  {
   "cell_type": "markdown",
   "id": "1a9def69-7d49-416c-985d-9128e938693a",
   "metadata": {},
   "source": [
    "# Python NumPy Library"
   ]
  },
  {
   "cell_type": "code",
   "execution_count": 1,
   "id": "ea3391bc-2ff7-476a-a0a4-43708a693dcb",
   "metadata": {},
   "outputs": [],
   "source": [
    "import numpy as np "
   ]
  },
  {
   "cell_type": "code",
   "execution_count": 12,
   "id": "62e0a73d-bf15-43be-ad11-11808026054a",
   "metadata": {},
   "outputs": [
    {
     "name": "stdout",
     "output_type": "stream",
     "text": [
      "\n",
      "\n",
      "Array 1  [1 2 3]\n",
      "Array 2  [4 5 6]\n",
      "\n",
      "\n",
      "Addition of[1 2 3] and [4 5 6] is  [5 7 9]\n"
     ]
    }
   ],
   "source": [
    "a = np.array([1,2,3])\n",
    "b = np.array([4,5,6])\n",
    "\n",
    "print(\"\\n\")\n",
    "print(\"Array 1 \",a)\n",
    "print(\"Array 2 \",b)\n",
    "print(\"\\n\")\n",
    "print(f\"Addition of{a} and {b} is \",a+b)"
   ]
  },
  {
   "cell_type": "markdown",
   "id": "2e316b60-e8ad-4464-977d-8e02edad4758",
   "metadata": {},
   "source": [
    "# NumPy N-Dimentional Array Creation "
   ]
  },
  {
   "cell_type": "code",
   "execution_count": 20,
   "id": "38f33cd3-452e-446d-af32-b5db53f3abf5",
   "metadata": {},
   "outputs": [
    {
     "name": "stdout",
     "output_type": "stream",
     "text": [
      "3 Dimentional Array 3 rows and 3 columns \n",
      "\n",
      " [[11 22 33]\n",
      " [44 55 66]\n",
      " [77 88 99]]\n"
     ]
    }
   ],
   "source": [
    "n_dimention = np.array([[11,22,33],[44,55,66],[77,88,99]])\n",
    "print(\"3 Dimentional Array 3 rows and 3 columns \\n\\n\",n_dimention)"
   ]
  },
  {
   "cell_type": "markdown",
   "id": "09ed6fc1-0447-4393-9a6e-af5bfe95c38a",
   "metadata": {},
   "source": [
    "# Slicing In NumPy "
   ]
  },
  {
   "cell_type": "code",
   "execution_count": 208,
   "id": "0f0dbac8-9b83-411e-9d7f-45f9d958563c",
   "metadata": {},
   "outputs": [
    {
     "name": "stdout",
     "output_type": "stream",
     "text": [
      "Original Array is [11 22 33 44 55] \n",
      "\n",
      "slicing[0:3]:-  [11 22 33]\n",
      "slicing[2:] :-  [33 44 55]\n",
      "slicing[:4] :-  [11 22 33 44]\n",
      "slicing[:]  :-  [11 22 33 44 55]\n",
      "\n",
      "\n",
      "N- Dimentional Array in NumPy [[1 2 3 4]\n",
      " [5 6 7 8]] \n",
      "\n",
      "\n",
      "[[1 2]\n",
      " [5 6]]  :- N_Dimention_Array [0:2,0:2] \n",
      "\n",
      "[1 2]    :- In Index 0 N_Dimention_Array [0,0:2] \n",
      "\n",
      "[5 6]    :- In Index 1 N_Dimention_Array [1,0:2] \n",
      "\n",
      "7        :- In Index 1 N_Dimention_Array [1,2] \n"
     ]
    }
   ],
   "source": [
    "slicing = np.array([11,22,33,44,55])\n",
    "\n",
    "print(f\"Original Array is {slicing} \\n\")\n",
    "\n",
    "print(\"slicing[0:3]:- \",slicing[0:3])\n",
    "print(\"slicing[2:] :- \",slicing[2:])\n",
    "print(\"slicing[:4] :- \",slicing[:4])\n",
    "print(\"slicing[:]  :- \",slicing[:])\n",
    "\n",
    "n_Dimen_Array = np.array([[1,2,3,4],[5,6,7,8]])\n",
    "print(f\"\\n\\nN- Dimentional Array in NumPy {n_Dimen_Array} \\n\\n\")\n",
    "\n",
    "print(n_Dimen_Array[0:2,0:2],\" :- N_Dimention_Array [0:2,0:2] \\n\")\n",
    "print(n_Dimen_Array[0,0:2],\"   :- In Index 0 N_Dimention_Array [0,0:2] \\n\")\n",
    "print(n_Dimen_Array[1,0:2],\"   :- In Index 1 N_Dimention_Array [1,0:2] \\n\")\n",
    "print(n_Dimen_Array[1,2],\"       :- In Index 1 N_Dimention_Array [1,2] \")\n"
   ]
  },
  {
   "cell_type": "markdown",
   "id": "a0c90d8a-dfc1-4581-bb99-63bbe323ca80",
   "metadata": {},
   "source": [
    "# Attribute of Array"
   ]
  },
  {
   "cell_type": "code",
   "execution_count": 59,
   "id": "2397276c-79bb-44b9-b6c2-a601ef30a59c",
   "metadata": {},
   "outputs": [
    {
     "name": "stdout",
     "output_type": "stream",
     "text": [
      "Shape of Array is  :-  (2, 4)\n",
      "Size of Array is   :-  8\n",
      "Dimention of Array :-  2\n",
      "Dimention of Array :-  int64\n"
     ]
    }
   ],
   "source": [
    "print(\"Shape of Array is  :- \",np.shape(n_Dimen_Array))\n",
    "print(\"Size of Array is   :- \",np.size(n_Dimen_Array))\n",
    "print(\"Dimention of Array :- \",np.ndim(n_Dimen_Array))\n",
    "print(\"Dimention of Array :- \",n_Dimen_Array.dtype)"
   ]
  },
  {
   "cell_type": "markdown",
   "id": "69d504bf-8ab3-4b26-9f81-c5a0a13c5e29",
   "metadata": {},
   "source": [
    "# Inspecting an Array "
   ]
  },
  {
   "cell_type": "code",
   "execution_count": 80,
   "id": "ab191b60-7f15-428d-a590-60cfa7d6923f",
   "metadata": {},
   "outputs": [
    {
     "name": "stdout",
     "output_type": "stream",
     "text": [
      "Type of Array   :-  int64\n",
      "Size of Array   :-  6\n",
      "No of rows and Columns of Array   :-  (2, 3)\n",
      "Length of Array :-  2\n",
      "Type of array   :- <class 'numpy.ndarray'>\n",
      "Typecasting of Array In Interger \n",
      "\n",
      " [[12 13 14]\n",
      " [15 16 17]] \n",
      "\n",
      " after Typecasting :- \n",
      "\n",
      " [[12. 13. 14.]\n",
      " [15. 16. 17.]]\n"
     ]
    }
   ],
   "source": [
    "a =[[12,13,14],[15,16,17]]\n",
    "arr = np.array(a)\n",
    "\n",
    "print(\"Type of Array   :- \",arr.dtype)\n",
    "print(\"Size of Array   :- \",np.size(arr))\n",
    "print(\"No of rows and Columns of Array   :- \",arr.shape)\n",
    "print(\"Length of Array :- \",len(arr))\n",
    "print(\"Type of array   :-\",type(arr) )\n",
    "print(f\"Typecasting of Array In Interger \\n\\n {arr} \\n\\n After Typecasting :- \\n\\n\",arr.astype(float))\n"
   ]
  },
  {
   "cell_type": "markdown",
   "id": "d926bc72-ddf2-49c6-ac01-1c4e4dc32809",
   "metadata": {},
   "source": [
    "# Mathamatical Operation "
   ]
  },
  {
   "cell_type": "code",
   "execution_count": 102,
   "id": "732bf3ff-16ad-422b-b78a-35ca602accc7",
   "metadata": {},
   "outputs": [
    {
     "name": "stdout",
     "output_type": "stream",
     "text": [
      "\n",
      "\n",
      "Addition of Two Array \n",
      "\n",
      "Without Function \n",
      " [[ 8 10 12]\n",
      " [14 16 18]]\n",
      "With Function \n",
      " [[ 8 10 12]\n",
      " [14 16 18]]\n",
      "\n",
      "\n",
      " Substraction of Two Array \n",
      "\n",
      "Without Function \n",
      " [[-6 -6 -6]\n",
      " [-6 -6 -6]]\n",
      "With Function \n",
      " [[-6 -6 -6]\n",
      " [-6 -6 -6]]\n",
      "\n",
      "\n",
      "Multipllication of Two Array \n",
      "\n",
      "Without Function \n",
      " [[ 7 16 27]\n",
      " [40 55 72]]\n",
      "With Function \n",
      " [[ 7 16 27]\n",
      " [40 55 72]]\n",
      "\n",
      "\n",
      "Division of Two Array \n",
      "\n",
      "Without Function \n",
      " [[0.14285714 0.25       0.33333333]\n",
      " [0.4        0.45454545 0.5       ]]\n",
      "With Function \n",
      " [[0.14285714 0.25       0.33333333]\n",
      " [0.4        0.45454545 0.5       ]]\n",
      "\n",
      "\n",
      " Power Function\n",
      "[[ 1  4  9]\n",
      " [16 25 36]]\n",
      "\n",
      "\n",
      " Square Root Function \n",
      "[4. 5. 6.]\n"
     ]
    }
   ],
   "source": [
    "arr1 = np.array([[1,2,3],[4,5,6]])\n",
    "arr2 = np.array([[7,8,9],[10,11,12]])\n",
    "\n",
    "print(\"\\n\\nAddition of Two Array \\n\")\n",
    "print(\"Without Function \\n\",arr1+arr2)\n",
    "print(\"With Function \\n\",np.add(arr1,arr2))\n",
    "\n",
    "print(\"\\n\\n Substraction of Two Array \\n\")\n",
    "print(\"Without Function \\n\",arr1-arr2)\n",
    "print(\"With Function \\n\",np.subtract(arr1,arr2))\n",
    "\n",
    "print(\"\\n\\nMultipllication of Two Array \\n\")\n",
    "print(\"Without Function \\n\",arr1*arr2)\n",
    "print(\"With Function \\n\",np.multiply(arr1,arr2))\n",
    "\n",
    "print(\"\\n\\nDivision of Two Array \\n\")\n",
    "print(\"Without Function \\n\",arr1/arr2)\n",
    "print(\"With Function \\n\",np.divide(arr1,arr2))\n",
    "\n",
    "print(\"\\n\\n Power Function\")\n",
    "print(np.power(arr1,2))\n",
    "\n",
    "print(\"\\n\\n Square Root Function \")\n",
    "arr2 = np.array([16 ,25,36])\n",
    "print(np.sqrt(arr2))"
   ]
  },
  {
   "cell_type": "markdown",
   "id": "d208731f-2468-4852-8959-78f1cc299ed7",
   "metadata": {},
   "source": [
    "# Join and Split the Array "
   ]
  },
  {
   "cell_type": "code",
   "execution_count": 134,
   "id": "b5302357-3efa-4a73-b5a9-0aae9ecb2d06",
   "metadata": {},
   "outputs": [
    {
     "name": "stdout",
     "output_type": "stream",
     "text": [
      "\n",
      "Concatenate the [1 2 3] and [4 5 6]  :-  [1 2 3 4 5 6]\n",
      "\n",
      "Axis 0 for Horizontal Concatenate :- \n",
      "\n",
      " [[1 2]\n",
      " [6 3]\n",
      " [4 5]\n",
      " [9 6]]\n",
      "\n",
      "Axis 1 for Vertical Concatenate :- \n",
      "\n",
      " [[1 2 4 5]\n",
      " [6 3 9 6]]\n",
      "\n",
      "\n",
      " Vertical Concatenate using Function :- \n",
      "\n",
      " [[1 2]\n",
      " [6 3]\n",
      " [4 5]\n",
      " [9 6]]\n",
      "\n",
      "\n",
      " Horizontal Concatenate using Function :- \n",
      "\n",
      " [[1 2 4 5]\n",
      " [6 3 9 6]]\n",
      "\n",
      "\n",
      " Split The array\n",
      "\n",
      "\n",
      "Befor Spliting array \n",
      "\n",
      "[ 1  2  3  4  5  6  7  8  9 10] \n",
      "\n",
      "After Sliting \n",
      "\n",
      "[array([1, 2, 3, 4]), array([5, 6, 7]), array([ 8,  9, 10])]\n",
      "\n",
      "\n"
     ]
    }
   ],
   "source": [
    "arr3 = np.array([1,2,3])\n",
    "arr4 = np.array([4,5,6])\n",
    "\n",
    "print(f\"\\nConcatenate the {arr3} and {arr4}  :- \",np.concatenate([arr3,arr4]))\n",
    "\n",
    "arr5 = np.array([[1,2],[6,3]])\n",
    "arr6 = np.array([[4,5],[9,6]])\n",
    "\n",
    "print(\"\\nAxis 0 for Horizontal Concatenate :- \\n\\n\",np.concatenate([arr5,arr6], axis = 0))\n",
    "\n",
    "print(\"\\nAxis 1 for Vertical Concatenate :- \\n\\n\",np.concatenate([arr5,arr6], axis = 1))\n",
    "\n",
    "print(\"\\n\\n Vertical Concatenate using Function :- \\n\\n\",np.vstack([arr5,arr6]))\n",
    "\n",
    "print(\"\\n\\n Horizontal Concatenate using Function :- \\n\\n\",np.hstack([arr5,arr6]))\n",
    "\n",
    "print(\"\\n\\n Split The array\\n\\n\")\n",
    "\n",
    "array =np.array([1,2,3,4,5,6,7,8,9,10])\n",
    "\n",
    "split_array = np.array_split(array,3)\n",
    "\n",
    "print(f\"Befor Spliting array \\n\\n{array} \\n\\nAfter Sliting \\n\\n{split_array}\\n\\n\")\n"
   ]
  },
  {
   "cell_type": "markdown",
   "id": "f65e1a01-13e3-4a3c-b652-49afe3e1bff5",
   "metadata": {},
   "source": [
    "# Add And Remove Element from Array"
   ]
  },
  {
   "cell_type": "code",
   "execution_count": 162,
   "id": "73ee1c4b-33fe-48c7-b528-eba11ca0a92f",
   "metadata": {},
   "outputs": [
    {
     "name": "stdout",
     "output_type": "stream",
     "text": [
      "Original Array \n",
      "[[1 2]\n",
      " [3 4]] \n",
      "After Appending\n",
      " [1 2 3 4 5 6 7]\n",
      "\n",
      "Original Array \n",
      "[[1 2]\n",
      " [3 4]] \n",
      "After Inserting\n",
      " [1 5 6 7 2 3 4]\n",
      "\n",
      "Original Array \n",
      "[[1 2]\n",
      " [3 4]] \n",
      "After Deleting\n",
      " [[1]\n",
      " [3]]\n"
     ]
    }
   ],
   "source": [
    "arr = np.array([[1,2,],[3,4]])\n",
    "print(f\"Original Array \\n{arr} \\nAfter Appending\\n\",np.append(arr,[5,6,7]))\n",
    "print(f\"\\nOriginal Array \\n{arr} \\nAfter Inserting\\n\",np.insert(arr,1,[5,6,7]))\n",
    "print(f\"\\nOriginal Array \\n{arr} \\nAfter Deleting\\n\",np.delete(arr,1,axis =1))\n",
    "\n"
   ]
  },
  {
   "cell_type": "markdown",
   "id": "cb21a757-cbec-4127-9e86-ce0f2239f687",
   "metadata": {},
   "source": [
    "# Search,Sort and Filter "
   ]
  },
  {
   "cell_type": "code",
   "execution_count": 182,
   "id": "b187c95a-0a5a-450e-b00c-581dbb26d605",
   "metadata": {},
   "outputs": [
    {
     "name": "stdout",
     "output_type": "stream",
     "text": [
      "Befor sorting \n",
      "\n",
      " [7 8 3 4 1 2] \n",
      "\n",
      "After sorting\n",
      "\n",
      " [1 2 3 4 7 8]\n",
      "\n",
      "\n",
      "Index of 2 is  :-  (array([5]),)\n",
      "\n",
      "\n",
      "Even Value are :-  [8 4 2]\n",
      "\n",
      "Index of 4 is  :- 3\n",
      "\n",
      "\n",
      "Filter Array  [3 4 7 8]\n"
     ]
    }
   ],
   "source": [
    "ar = np.array([7,8,3,4,1,2])\n",
    "print(f\"Befor sorting \\n\\n {ar} \\n\\nAfter sorting\\n\\n\",np.sort(ar))\n",
    "\n",
    "ab = np.where(ar==2)\n",
    "print(\"\\n\\nIndex of 2 is  :- \",ab)\n",
    "\n",
    "abc = np.where(ar % 2 == 0)\n",
    "print(\"\\n\\nEven Value are :- \",ar[abc])\n",
    "\n",
    "sorted_array = np.sort(ar)\n",
    "\n",
    "print(\"\\nIndex of 4 is  :-\",np.searchsorted(sorted_array,4))\n",
    "\n",
    "ex = sorted_array > 2\n",
    "\n",
    "ex1 = sorted_array[ex]\n",
    "print(\"\\n\\nFilter Array \",ex1)"
   ]
  },
  {
   "cell_type": "markdown",
   "id": "ad05a82b-40e2-47ac-8db7-3ec8866a77cf",
   "metadata": {},
   "source": [
    "# Agregating Functions in NumPy"
   ]
  },
  {
   "cell_type": "code",
   "execution_count": 196,
   "id": "34a9b7fb-2c4f-4df1-ad92-a6c63e0c0953",
   "metadata": {},
   "outputs": [
    {
     "name": "stdout",
     "output_type": "stream",
     "text": [
      "\n",
      "Maximum Value from [7 8 3 4 1 2] are :-  8\n",
      "\n",
      "Minimum Value from [7 8 3 4 1 2] are :-  1\n",
      "\n",
      "Sum of Value from [7 8 3 4 1 2] are :-  25\n",
      "\n",
      "Size of [7 8 3 4 1 2] are :-  6\n",
      "\n",
      "Mean of [7 8 3 4 1 2] are :-  4.166666666666667\n",
      "\n",
      "Cumulative Sum from [7 8 3 4 1 2] are :-  [ 7 15 18 22 23 25]\n",
      "\n",
      "Cumulative Product from [7 8 3 4 1 2] are :-  [   7   56  168  672  672 1344]\n",
      "\n",
      "\n",
      "Pirce of Product is [100 150 199 200 250 130]\n",
      "\n",
      "Qunatity of Product is [10 50 30 40 30 10]\n",
      "\n",
      "Total Revenue :-  31270\n"
     ]
    }
   ],
   "source": [
    "ar1 = np.array([7,8,3,4,1,2])\n",
    "\n",
    "print(f\"\\nMaximum Value from {ar1} are :- \",np.max(ar1))\n",
    "print(f\"\\nMinimum Value from {ar1} are :- \",np.min(ar1))\n",
    "print(f\"\\nSum of Value from {ar1} are :- \",np.sum(ar1))\n",
    "print(f\"\\nSize of {ar1} are :- \",np.size(ar1))\n",
    "print(f\"\\nMean of {ar1} are :- \",np.mean(ar1))\n",
    "print(f\"\\nCumulative Sum from {ar1} are :- \",np.cumsum(ar1))\n",
    "print(f\"\\nCumulative Product from {ar1} are :- \",np.cumprod(ar1))\n",
    "\n",
    "\n",
    "price = np.array([100,150,199,200,250,130])\n",
    "quantity = np.array([10,50,30,40,30,10])\n",
    "\n",
    "print(f\"\\n\\nPirce of Product is {price}\")\n",
    "print(f\"\\nQunatity of Product is {quantity}\")\n",
    "\n",
    "cumulative_product = np.cumprod([price,quantity],axis = 0)\n",
    "print(\"\\nTotal Revenue :- \",cumulative_product[1].sum())\n",
    "\n"
   ]
  },
  {
   "cell_type": "markdown",
   "id": "c7829e3c-406d-44e5-80e3-8d2c4b76062a",
   "metadata": {},
   "source": [
    "# Statistical Function"
   ]
  },
  {
   "cell_type": "code",
   "execution_count": 207,
   "id": "432db22d-e304-4754-8cd2-f28c82ca2f5b",
   "metadata": {},
   "outputs": [
    {
     "name": "stdout",
     "output_type": "stream",
     "text": [
      "Mean of Value    :- 4.714285714285714\n",
      "Median of Value  :- 5.0\n",
      "Mode of Value    :- 3\n",
      "Standared Deviation of Value :- 2.0503857277724746\n",
      "Varience of Value:-  4.204081632653061\n",
      "\n",
      "Correaltion Coefficient :-\n",
      "\n",
      " [[1.         0.99015454]\n",
      " [0.99015454 1.        ]]\n",
      "\n",
      "-1 Represent inversely Propostional Relationship \n",
      " 1 Represent Propostional Relationship \n",
      " 0 Means No Relationship\n"
     ]
    }
   ],
   "source": [
    "import statistics as stats\n",
    "\n",
    "baked_food =np.array([2,3,5,7,8,5,3])\n",
    "\n",
    "print(\"Mean of Value    :-\",np.mean(baked_food))\n",
    "print(\"Median of Value  :-\",np.median(baked_food))\n",
    "print(\"Mode of Value    :-\",stats.mode(baked_food))\n",
    "print(\"Standared Deviation of Value :-\",np.std(baked_food))\n",
    "print(\"Varience of Value:- \",np.var(baked_food))\n",
    "\n",
    "tobaco_consumption = [30,50,10,30,50,40]\n",
    "deaths = [100,120,70,100,120,112]\n",
    "\n",
    "print(\"\\nCorrealtion Coefficient :-\\n\\n\",np.corrcoef([tobaco_consumption,deaths]))\n",
    "\n",
    "print(\"\\n-1 Represent inversely Propostional Relationship \\n 1 Represent Propostional Relationship \\n 0 Means No Relationship\")\n"
   ]
  }
 ],
 "metadata": {
  "kernelspec": {
   "display_name": "Python 3 (ipykernel)",
   "language": "python",
   "name": "python3"
  },
  "language_info": {
   "codemirror_mode": {
    "name": "ipython",
    "version": 3
   },
   "file_extension": ".py",
   "mimetype": "text/x-python",
   "name": "python",
   "nbconvert_exporter": "python",
   "pygments_lexer": "ipython3",
   "version": "3.12.5"
  }
 },
 "nbformat": 4,
 "nbformat_minor": 5
}
